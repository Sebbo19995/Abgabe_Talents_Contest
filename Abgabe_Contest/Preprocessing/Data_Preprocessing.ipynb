{
 "cells": [
  {
   "cell_type": "code",
   "execution_count": 1,
   "metadata": {},
   "outputs": [],
   "source": [
    "import pandas as pd\n",
    "import math\n",
    "import matplotlib as mpl\n",
    "import pandasql \n",
    "from pandasql import sqldf \n",
    "from sklearn.preprocessing import LabelEncoder\n",
    "import re"
   ]
  },
  {
   "cell_type": "code",
   "execution_count": null,
   "metadata": {},
   "outputs": [
    {
     "name": "stdout",
     "output_type": "stream",
     "text": [
      "Starting weather unpacking\n",
      "70321\n",
      "to unpack\n",
      "10000\n",
      "rows\n"
     ]
    }
   ],
   "source": [
    "raw_data = pd.read_csv('data.csv', sep=';')\n",
    "\n",
    "'''----------------------- Data Preprocessing----------------------'''\n",
    "pre_data= raw_data\n",
    "\n",
    "'''Convert Object Types and drop NaN's '''\n",
    "pre_data.loc[:,'fuel_consumption'] = pd.to_numeric(pre_data['fuel_consumption'], errors='coerce', downcast = 'float')\n",
    "pre_data = pre_data.dropna(subset=['fuel_consumption'])\n",
    "pre_data.loc[:,'race_created'] = pd.to_datetime(pre_data['race_created'])\n",
    "pre_data.loc[:,'race_driven'] = pd.to_datetime(pre_data['race_driven'], errors='coerce')\n",
    "\n",
    "'''encode nominal values to integers for machine learning'''\n",
    "weather_nom_enc = LabelEncoder()\n",
    "weather_nom_enc.fit(pre_data['weather'])\n",
    "pre_data.loc[:,'weather'] = weather_nom_enc.transform(pre_data['weather'])\n",
    "status_nom_enc = LabelEncoder()\n",
    "status_nom_enc.fit(pre_data['status'])\n",
    "pre_data.loc[:,'status'] = status_nom_enc.transform(pre_data['status'])\n",
    "\n",
    "'''Drop Races that werent driven'''\n",
    "\n",
    "pre_data = pre_data.drop(pre_data[(pre_data.status != 1)].index)\n",
    "\n",
    "'''Drop Races betting to much money (>1000000)'''\n",
    "\n",
    "pre_data = pre_data.drop(pre_data[(pre_data.money > 1000000)].index)\n",
    "\n",
    "\"\"\"Drop Races where the driven date was before the creation date\"\"\"\n",
    "\n",
    "pre_data = pre_data.drop(pre_data[(pre_data.race_created > pre_data.race_driven)].index)\n",
    "\n",
    "'''Add collumns for the specific weather propabilities'''\n",
    "\n",
    "pre_data.insert(11,'sunny','')\n",
    "pre_data.insert(12,'rainy','')\n",
    "pre_data.insert(13,'thundery','')\n",
    "pre_data.insert(14,'snowy','')\n",
    "\n",
    "''' Iterate over DF to split forecast propabilities in the specific columns'''\n",
    "\n",
    "print('Starting weather unpacking')\n",
    "c = 0\n",
    "print(len(pre_data))\n",
    "print('to unpack')\n",
    "for index, rows in pre_data.iterrows():\n",
    "    test = re.findall('i:(\\d*)',rows['forecast'])\n",
    "    test = [int(i) for i in test]\n",
    "    pre_data.loc[index:index,'sunny'] = test[0]\n",
    "    pre_data.loc[index:index,'rainy'] = test[1]\n",
    "    pre_data.loc[index:index,'thundery'] = test[2]\n",
    "    pre_data.loc[index:index,'snowy'] = test[3]\n",
    "    c=c+1\n",
    "    if c % 10000 == 0:\n",
    "        print(c)\n",
    "        print('rows')\n",
    "'''drop forecast column'''\n",
    "pre_data.drop('forecast',1, inplace=True)\n",
    "\n",
    "'''convert forecast columns to numeric'''\n",
    "pre_data.loc[:,'sunny'] = pd.to_numeric(pre_data['sunny'], errors='coerce', downcast = 'integer')\n",
    "pre_data.loc[:,'rainy'] = pd.to_numeric(pre_data['rainy'], errors='coerce', downcast = 'integer')\n",
    "pre_data.loc[:,'thundery'] = pd.to_numeric(pre_data['thundery'], errors='coerce', downcast = 'integer')\n",
    "pre_data.loc[:,'snowy'] = pd.to_numeric(pre_data['snowy'], errors='coerce', downcast = 'integer')\n",
    "\n",
    "pre_data.head()"
   ]
  },
  {
   "cell_type": "code",
   "execution_count": null,
   "metadata": {},
   "outputs": [],
   "source": [
    "'''Save Data in csv-file'''\n",
    "\n",
    "pre_data.to_csv('forecast_data.csv')"
   ]
  },
  {
   "cell_type": "code",
   "execution_count": null,
   "metadata": {},
   "outputs": [],
   "source": [
    "mysql = lambda q: sqldf(q, globals())\n",
    "mysql('SELECT * FROM pre_data')"
   ]
  },
  {
   "cell_type": "code",
   "execution_count": null,
   "metadata": {},
   "outputs": [],
   "source": []
  }
 ],
 "metadata": {
  "kernelspec": {
   "display_name": "Python 3",
   "language": "python",
   "name": "python3"
  },
  "language_info": {
   "codemirror_mode": {
    "name": "ipython",
    "version": 3
   },
   "file_extension": ".py",
   "mimetype": "text/x-python",
   "name": "python",
   "nbconvert_exporter": "python",
   "pygments_lexer": "ipython3",
   "version": "3.8.3"
  }
 },
 "nbformat": 4,
 "nbformat_minor": 4
}
